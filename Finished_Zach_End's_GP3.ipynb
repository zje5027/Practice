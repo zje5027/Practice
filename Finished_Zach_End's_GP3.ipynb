{
  "nbformat": 4,
  "nbformat_minor": 0,
  "metadata": {
    "colab": {
      "name": "Finished Zach End's GP3.ipynb",
      "provenance": [],
      "collapsed_sections": [],
      "toc_visible": true,
      "include_colab_link": true
    },
    "kernelspec": {
      "name": "python3",
      "display_name": "Python 3"
    }
  },
  "cells": [
    {
      "cell_type": "markdown",
      "metadata": {
        "id": "view-in-github",
        "colab_type": "text"
      },
      "source": [
        "<a href=\"https://colab.research.google.com/github/zje5027/Practice/blob/master/Finished_Zach_End's_GP3.ipynb\" target=\"_parent\"><img src=\"https://colab.research.google.com/assets/colab-badge.svg\" alt=\"Open In Colab\"/></a>"
      ]
    },
    {
      "cell_type": "markdown",
      "metadata": {
        "id": "CAs7nuxSUtx9"
      },
      "source": [
        "#  ORIGINAL ER Diagram"
      ]
    },
    {
      "cell_type": "markdown",
      "metadata": {
        "id": "wxhFys43P08J"
      },
      "source": [
        "![ER diagram of media rental sevice](https://nbviewer.jupyter.org/github/zje5027/Group_Lab_2/blob/main/Group%20Lab%202.png)"
      ]
    },
    {
      "cell_type": "markdown",
      "metadata": {
        "id": "yFwYhkRgHM4C"
      },
      "source": [
        "# UPDATED ER Diagram"
      ]
    },
    {
      "cell_type": "markdown",
      "metadata": {
        "id": "YO7ikkNvrp-A"
      },
      "source": [
        "Updated transaction table to get rid of repeating groups\n",
        "\n",
        "fixed mismatched cardinality \n",
        "\n",
        "fixed connection between the user and transaction table "
      ]
    },
    {
      "cell_type": "markdown",
      "metadata": {
        "id": "QKqH3ZsrqeLR"
      },
      "source": [
        "![Updated ER diagram](https://raw.githubusercontent.com/zje5027/Group_Project_2/main/Group%2520Lab%25202%20(1).png)"
      ]
    },
    {
      "cell_type": "markdown",
      "metadata": {
        "id": "V5ZMWUbuRtj2"
      },
      "source": [
        "# Define SQL"
      ]
    },
    {
      "cell_type": "code",
      "metadata": {
        "id": "Vjy5cC0CR4cf",
        "colab": {
          "base_uri": "https://localhost:8080/",
          "height": 70
        },
        "outputId": "baf5e75c-f42f-44ed-a205-96c81cb824c4"
      },
      "source": [
        "%load_ext sql\n",
        "%sql sqlite:///libraryDatabase.db"
      ],
      "execution_count": null,
      "outputs": [
        {
          "output_type": "stream",
          "text": [
            "The sql extension is already loaded. To reload it, use:\n",
            "  %reload_ext sql\n"
          ],
          "name": "stdout"
        },
        {
          "output_type": "execute_result",
          "data": {
            "application/vnd.google.colaboratory.intrinsic+json": {
              "type": "string"
            },
            "text/plain": [
              "'Connected: @libraryDatabase.db'"
            ]
          },
          "metadata": {
            "tags": []
          },
          "execution_count": 10
        }
      ]
    },
    {
      "cell_type": "markdown",
      "metadata": {
        "id": "fTgfU3tJTAaK"
      },
      "source": [
        "# Create Tables"
      ]
    },
    {
      "cell_type": "code",
      "metadata": {
        "id": "0oQGQU6qTL-7",
        "colab": {
          "base_uri": "https://localhost:8080/"
        },
        "outputId": "1f086c64-1d1e-4d5c-bda3-2dcd564f87a8"
      },
      "source": [
        "%%sql  \n",
        "DROP TABLE IF EXISTS Books;\n",
        "create table Books (BOOK_ID_NUMBER text PRIMARY KEY, Author text, Publisher real, Genre text);\n",
        "\n",
        "DROP table IF EXISTS Transactions;\n",
        "create table Transactions (transactionID text PRIMARY KEY, RentalType text, DateTime text);"
      ],
      "execution_count": null,
      "outputs": [
        {
          "output_type": "stream",
          "text": [
            " * sqlite:///libraryDatabase.db\n",
            "Done.\n",
            "Done.\n",
            "Done.\n",
            "Done.\n"
          ],
          "name": "stdout"
        },
        {
          "output_type": "execute_result",
          "data": {
            "text/plain": [
              "[]"
            ]
          },
          "metadata": {
            "tags": []
          },
          "execution_count": 22
        }
      ]
    },
    {
      "cell_type": "code",
      "metadata": {
        "colab": {
          "base_uri": "https://localhost:8080/"
        },
        "id": "p0DgbiaIKQDZ",
        "outputId": "58b8908d-4033-4ccf-c405-77fdc45e40a7"
      },
      "source": [
        "%%sql\n",
        "DROP TABLE IF EXISTS Movies;\n",
        "create table Movies (Title text PRIMARY KEY, Director text, Actors text, Playtime real);\n",
        "\n",
        "DROP TABLE IF EXISTS Magazines;\n",
        "create table Magazines (Issue text PRIMARY KEY, Publisher text, Date text, Journalist real);\n",
        "\n",
        "DROP TABLE IF EXISTS Newspaper;\n",
        "create table Newspaper (UniqueID text PRIMARY KEY, Company Name text, Issue text, Stories real);\n",
        "\n",
        "DROP TABLE IF EXISTS user;\n",
        "create table User (UserID text PRIMARY KEY, PaymentInfo text, Email text, PhoneNumber text, TransactionID real);"
      ],
      "execution_count": null,
      "outputs": [
        {
          "output_type": "stream",
          "text": [
            " * sqlite:///libraryDatabase.db\n",
            "Done.\n",
            "Done.\n",
            "Done.\n",
            "Done.\n",
            "Done.\n",
            "Done.\n",
            "Done.\n",
            "Done.\n"
          ],
          "name": "stdout"
        },
        {
          "output_type": "execute_result",
          "data": {
            "text/plain": [
              "[]"
            ]
          },
          "metadata": {
            "tags": []
          },
          "execution_count": 23
        }
      ]
    },
    {
      "cell_type": "markdown",
      "metadata": {
        "id": "asdAEc9c_ri1"
      },
      "source": [
        "# Insert Data"
      ]
    },
    {
      "cell_type": "code",
      "metadata": {
        "id": "cpBJkVASQrhw",
        "colab": {
          "base_uri": "https://localhost:8080/"
        },
        "outputId": "c84bcb6f-4969-4b5b-9f92-7cae2410f7e5"
      },
      "source": [
        "%%sql\n",
        "insert into Books values ('98723171', 'George R R Martin', 1, 'Fantasy');\n",
        "insert into Books values ('83231231', 'J K Rowling', 1, 'Fantasy');\n",
        "insert into Books values ('75351143', 'Ernest Hemingway', 1, 'Fiction');\n",
        "insert into Books values ('63532454', 'Mark Twain', 2, 'Non-Fiction');\n",
        "insert into Books values ('55234231', 'F Scott Fitzgerald', 3, 'Fiction');\n",
        "insert into Books values ('43423413', 'William Shakespeare', 4, 'Thriller');\n",
        "insert into Books values ('34242312', 'Charles Dickens', 5, 'Mystery');\n",
        "\n",
        "insert into Transactions values ('01', 'Book', '2020-11-14 19:12:54');\n",
        "insert into Transactions values ('02', 'Movie', '2020-11-15 12:12:12');\n",
        "insert into Transactions values ('03', 'Magazine', '2020-11-15 12:12:20');\n",
        "insert into Transactions values ('04', 'Newspaper', '2020-11-15 12:12:23');\n",
        "insert into Transactions values ('05', 'Book', '2019-11-15 19:34:23');\n",
        "insert into Transactions values ('06', 'Movie', '2019-11-15 19:34:25');\n",
        "insert into Transactions values ('07', 'Newspaper', '2019-11-15 19:34:30');\n",
        "insert into Transactions values ('08', 'Book', '2019-11-15 19:40:03');\n",
        "insert into Transactions values ('09', 'Movie', '2019-11-15 19:40:05');\n",
        "insert into Transactions values ('10', 'Movie', '2019-11-15 19:41:30');"
      ],
      "execution_count": null,
      "outputs": [
        {
          "output_type": "stream",
          "text": [
            " * sqlite:///libraryDatabase.db\n",
            "1 rows affected.\n",
            "1 rows affected.\n",
            "1 rows affected.\n",
            "1 rows affected.\n",
            "1 rows affected.\n",
            "1 rows affected.\n",
            "1 rows affected.\n",
            "1 rows affected.\n",
            "1 rows affected.\n",
            "1 rows affected.\n",
            "1 rows affected.\n",
            "1 rows affected.\n",
            "1 rows affected.\n",
            "1 rows affected.\n",
            "1 rows affected.\n",
            "1 rows affected.\n",
            "1 rows affected.\n"
          ],
          "name": "stdout"
        },
        {
          "output_type": "execute_result",
          "data": {
            "text/plain": [
              "[]"
            ]
          },
          "metadata": {
            "tags": []
          },
          "execution_count": 24
        }
      ]
    },
    {
      "cell_type": "code",
      "metadata": {
        "colab": {
          "base_uri": "https://localhost:8080/"
        },
        "id": "Ju3Ud0kqIC8V",
        "outputId": "44ac8fb2-9e5c-4297-b52e-1b2eabb76fb8"
      },
      "source": [
        "%%sql\n",
        "insert into Movies values ('The Matrix', 'Wachowski Sisters','Keanu Reeves', 120);\n",
        "insert into Movies values ('V for Vendetta', 'Wachowski Sisters', 'Hugo Weaving', 120);\n",
        "insert into Movies values ('2001 A Space Odyssey', 'Stanley Kubrick', 'Keir Dullea', 120 );\n",
        "insert into Movies values ('The Dark Knight', 'Christopher Nolan', 'Christian Bale', 120);\n",
        "insert into Movies values ('21 JumpStreet', 'Zach End', \"Joahna Hill\", 90 );\n",
        "insert into Movies values ('Spaceballs', 'Mel Gibson', 'Rick Moranis', 90 );\n",
        "insert into Movies values ('John Wick', 'David Leitch', 'Keanu Reeves', 90 );\n",
        "\n",
        "insert into Magazines values ('123', 'Timez','10/25/2000', 'Zach End');\n",
        "insert into Magazines values ('132', 'Timez', '10/26/2001', 'Zach End');\n",
        "\n",
        "insert into Newspaper values ('NEWS123', 'The Daily Bugal','Mike Evans', 15);\n",
        "insert into Newspaper values ('NEWs132', 'The New Pork Times', 'Lamar Jackson', 12);\n",
        "\n",
        "\n",
        "insert into User values ('Zach End', 'Visa Debit 0765', 'zje5027@hotmail.com', '4125555559', 55473893027 )"
      ],
      "execution_count": null,
      "outputs": [
        {
          "output_type": "stream",
          "text": [
            " * sqlite:///libraryDatabase.db\n",
            "1 rows affected.\n",
            "1 rows affected.\n",
            "1 rows affected.\n",
            "1 rows affected.\n",
            "1 rows affected.\n",
            "1 rows affected.\n",
            "1 rows affected.\n",
            "1 rows affected.\n",
            "1 rows affected.\n",
            "1 rows affected.\n",
            "1 rows affected.\n",
            "1 rows affected.\n"
          ],
          "name": "stdout"
        },
        {
          "output_type": "execute_result",
          "data": {
            "text/plain": [
              "[]"
            ]
          },
          "metadata": {
            "tags": []
          },
          "execution_count": 25
        }
      ]
    },
    {
      "cell_type": "markdown",
      "metadata": {
        "id": "QUuGrrwnQqfw"
      },
      "source": [
        "# PrintOut_Test"
      ]
    },
    {
      "cell_type": "markdown",
      "metadata": {
        "id": "7_SubfqJrTSO"
      },
      "source": [
        " check to make sure all tables were created correctly "
      ]
    },
    {
      "cell_type": "code",
      "metadata": {
        "id": "14OwmdnySw1I",
        "colab": {
          "base_uri": "https://localhost:8080/",
          "height": 220
        },
        "outputId": "4f285bcd-934e-4dc8-fb58-1502c9fd1636"
      },
      "source": [
        "%%sql\n",
        "\n",
        "select * from Books;"
      ],
      "execution_count": null,
      "outputs": [
        {
          "output_type": "stream",
          "text": [
            " * sqlite:///libraryDatabase.db\n",
            "Done.\n"
          ],
          "name": "stdout"
        },
        {
          "output_type": "execute_result",
          "data": {
            "text/html": [
              "<table>\n",
              "    <tr>\n",
              "        <th>BOOK_ID_NUMBER</th>\n",
              "        <th>Author</th>\n",
              "        <th>Publisher</th>\n",
              "        <th>Genre</th>\n",
              "    </tr>\n",
              "    <tr>\n",
              "        <td>98723171</td>\n",
              "        <td>George R R Martin</td>\n",
              "        <td>1.0</td>\n",
              "        <td>Fantasy</td>\n",
              "    </tr>\n",
              "    <tr>\n",
              "        <td>83231231</td>\n",
              "        <td>J K Rowling</td>\n",
              "        <td>1.0</td>\n",
              "        <td>Fantasy</td>\n",
              "    </tr>\n",
              "    <tr>\n",
              "        <td>75351143</td>\n",
              "        <td>Ernest Hemingway</td>\n",
              "        <td>1.0</td>\n",
              "        <td>Fiction</td>\n",
              "    </tr>\n",
              "    <tr>\n",
              "        <td>63532454</td>\n",
              "        <td>Mark Twain</td>\n",
              "        <td>2.0</td>\n",
              "        <td>Non-Fiction</td>\n",
              "    </tr>\n",
              "    <tr>\n",
              "        <td>55234231</td>\n",
              "        <td>F Scott Fitzgerald</td>\n",
              "        <td>3.0</td>\n",
              "        <td>Fiction</td>\n",
              "    </tr>\n",
              "    <tr>\n",
              "        <td>43423413</td>\n",
              "        <td>William Shakespeare</td>\n",
              "        <td>4.0</td>\n",
              "        <td>Thriller</td>\n",
              "    </tr>\n",
              "    <tr>\n",
              "        <td>34242312</td>\n",
              "        <td>Charles Dickens</td>\n",
              "        <td>5.0</td>\n",
              "        <td>Mystery</td>\n",
              "    </tr>\n",
              "</table>"
            ],
            "text/plain": [
              "[('98723171', 'George R R Martin', 1.0, 'Fantasy'),\n",
              " ('83231231', 'J K Rowling', 1.0, 'Fantasy'),\n",
              " ('75351143', 'Ernest Hemingway', 1.0, 'Fiction'),\n",
              " ('63532454', 'Mark Twain', 2.0, 'Non-Fiction'),\n",
              " ('55234231', 'F Scott Fitzgerald', 3.0, 'Fiction'),\n",
              " ('43423413', 'William Shakespeare', 4.0, 'Thriller'),\n",
              " ('34242312', 'Charles Dickens', 5.0, 'Mystery')]"
            ]
          },
          "metadata": {
            "tags": []
          },
          "execution_count": 26
        }
      ]
    },
    {
      "cell_type": "code",
      "metadata": {
        "colab": {
          "base_uri": "https://localhost:8080/",
          "height": 220
        },
        "id": "xEGyrOa6SlZM",
        "outputId": "29ac3c88-e285-4999-8fa0-38d33ad5110c"
      },
      "source": [
        "%%sql\n",
        "select * from Movies;"
      ],
      "execution_count": null,
      "outputs": [
        {
          "output_type": "stream",
          "text": [
            " * sqlite:///libraryDatabase.db\n",
            "Done.\n"
          ],
          "name": "stdout"
        },
        {
          "output_type": "execute_result",
          "data": {
            "text/html": [
              "<table>\n",
              "    <tr>\n",
              "        <th>Title</th>\n",
              "        <th>Director</th>\n",
              "        <th>Actors</th>\n",
              "        <th>Playtime</th>\n",
              "    </tr>\n",
              "    <tr>\n",
              "        <td>The Matrix</td>\n",
              "        <td>Wachowski Sisters</td>\n",
              "        <td>Keanu Reeves</td>\n",
              "        <td>120.0</td>\n",
              "    </tr>\n",
              "    <tr>\n",
              "        <td>V for Vendetta</td>\n",
              "        <td>Wachowski Sisters</td>\n",
              "        <td>Hugo Weaving</td>\n",
              "        <td>120.0</td>\n",
              "    </tr>\n",
              "    <tr>\n",
              "        <td>2001 A Space Odyssey</td>\n",
              "        <td>Stanley Kubrick</td>\n",
              "        <td>Keir Dullea</td>\n",
              "        <td>120.0</td>\n",
              "    </tr>\n",
              "    <tr>\n",
              "        <td>The Dark Knight</td>\n",
              "        <td>Christopher Nolan</td>\n",
              "        <td>Christian Bale</td>\n",
              "        <td>120.0</td>\n",
              "    </tr>\n",
              "    <tr>\n",
              "        <td>21 JumpStreet</td>\n",
              "        <td>Zach End</td>\n",
              "        <td>Joahna Hill</td>\n",
              "        <td>90.0</td>\n",
              "    </tr>\n",
              "    <tr>\n",
              "        <td>Spaceballs</td>\n",
              "        <td>Mel Gibson</td>\n",
              "        <td>Rick Moranis</td>\n",
              "        <td>90.0</td>\n",
              "    </tr>\n",
              "    <tr>\n",
              "        <td>John Wick</td>\n",
              "        <td>David Leitch</td>\n",
              "        <td>Keanu Reeves</td>\n",
              "        <td>90.0</td>\n",
              "    </tr>\n",
              "</table>"
            ],
            "text/plain": [
              "[('The Matrix', 'Wachowski Sisters', 'Keanu Reeves', 120.0),\n",
              " ('V for Vendetta', 'Wachowski Sisters', 'Hugo Weaving', 120.0),\n",
              " ('2001 A Space Odyssey', 'Stanley Kubrick', 'Keir Dullea', 120.0),\n",
              " ('The Dark Knight', 'Christopher Nolan', 'Christian Bale', 120.0),\n",
              " ('21 JumpStreet', 'Zach End', 'Joahna Hill', 90.0),\n",
              " ('Spaceballs', 'Mel Gibson', 'Rick Moranis', 90.0),\n",
              " ('John Wick', 'David Leitch', 'Keanu Reeves', 90.0)]"
            ]
          },
          "metadata": {
            "tags": []
          },
          "execution_count": 27
        }
      ]
    },
    {
      "cell_type": "code",
      "metadata": {
        "colab": {
          "base_uri": "https://localhost:8080/",
          "height": 283
        },
        "id": "gYBA5_edURS4",
        "outputId": "034a7c33-2467-471f-f7ef-88a28d2c6d43"
      },
      "source": [
        "%%sql\n",
        "\n",
        "select * from Transactions;"
      ],
      "execution_count": null,
      "outputs": [
        {
          "output_type": "stream",
          "text": [
            " * sqlite:///libraryDatabase.db\n",
            "Done.\n"
          ],
          "name": "stdout"
        },
        {
          "output_type": "execute_result",
          "data": {
            "text/html": [
              "<table>\n",
              "    <tr>\n",
              "        <th>transactionID</th>\n",
              "        <th>RentalType</th>\n",
              "        <th>DateTime</th>\n",
              "    </tr>\n",
              "    <tr>\n",
              "        <td>01</td>\n",
              "        <td>Book</td>\n",
              "        <td>2020-11-14 19:12:54</td>\n",
              "    </tr>\n",
              "    <tr>\n",
              "        <td>02</td>\n",
              "        <td>Movie</td>\n",
              "        <td>2020-11-15 12:12:12</td>\n",
              "    </tr>\n",
              "    <tr>\n",
              "        <td>03</td>\n",
              "        <td>Magazine</td>\n",
              "        <td>2020-11-15 12:12:20</td>\n",
              "    </tr>\n",
              "    <tr>\n",
              "        <td>04</td>\n",
              "        <td>Newspaper</td>\n",
              "        <td>2020-11-15 12:12:23</td>\n",
              "    </tr>\n",
              "    <tr>\n",
              "        <td>05</td>\n",
              "        <td>Book</td>\n",
              "        <td>2019-11-15 19:34:23</td>\n",
              "    </tr>\n",
              "    <tr>\n",
              "        <td>06</td>\n",
              "        <td>Movie</td>\n",
              "        <td>2019-11-15 19:34:25</td>\n",
              "    </tr>\n",
              "    <tr>\n",
              "        <td>07</td>\n",
              "        <td>Newspaper</td>\n",
              "        <td>2019-11-15 19:34:30</td>\n",
              "    </tr>\n",
              "    <tr>\n",
              "        <td>08</td>\n",
              "        <td>Book</td>\n",
              "        <td>2019-11-15 19:40:03</td>\n",
              "    </tr>\n",
              "    <tr>\n",
              "        <td>09</td>\n",
              "        <td>Movie</td>\n",
              "        <td>2019-11-15 19:40:05</td>\n",
              "    </tr>\n",
              "    <tr>\n",
              "        <td>10</td>\n",
              "        <td>Movie</td>\n",
              "        <td>2019-11-15 19:41:30</td>\n",
              "    </tr>\n",
              "</table>"
            ],
            "text/plain": [
              "[('01', 'Book', '2020-11-14 19:12:54'),\n",
              " ('02', 'Movie', '2020-11-15 12:12:12'),\n",
              " ('03', 'Magazine', '2020-11-15 12:12:20'),\n",
              " ('04', 'Newspaper', '2020-11-15 12:12:23'),\n",
              " ('05', 'Book', '2019-11-15 19:34:23'),\n",
              " ('06', 'Movie', '2019-11-15 19:34:25'),\n",
              " ('07', 'Newspaper', '2019-11-15 19:34:30'),\n",
              " ('08', 'Book', '2019-11-15 19:40:03'),\n",
              " ('09', 'Movie', '2019-11-15 19:40:05'),\n",
              " ('10', 'Movie', '2019-11-15 19:41:30')]"
            ]
          },
          "metadata": {
            "tags": []
          },
          "execution_count": 17
        }
      ]
    },
    {
      "cell_type": "code",
      "metadata": {
        "colab": {
          "base_uri": "https://localhost:8080/",
          "height": 116
        },
        "id": "43vT-sQc2ahf",
        "outputId": "ae247218-b8e8-418d-b35f-48a61b528c6f"
      },
      "source": [
        "%%sql\n",
        "\n",
        "select * from Magazines;"
      ],
      "execution_count": null,
      "outputs": [
        {
          "output_type": "stream",
          "text": [
            " * sqlite:///libraryDatabase.db\n",
            "Done.\n"
          ],
          "name": "stdout"
        },
        {
          "output_type": "execute_result",
          "data": {
            "text/html": [
              "<table>\n",
              "    <tr>\n",
              "        <th>Issue</th>\n",
              "        <th>Publisher</th>\n",
              "        <th>Date</th>\n",
              "        <th>Journalist</th>\n",
              "    </tr>\n",
              "    <tr>\n",
              "        <td>123</td>\n",
              "        <td>Timez</td>\n",
              "        <td>10/25/2000</td>\n",
              "        <td>Zach End</td>\n",
              "    </tr>\n",
              "    <tr>\n",
              "        <td>132</td>\n",
              "        <td>Timez</td>\n",
              "        <td>10/26/2001</td>\n",
              "        <td>Zach End</td>\n",
              "    </tr>\n",
              "</table>"
            ],
            "text/plain": [
              "[('123', 'Timez', '10/25/2000', 'Zach End'),\n",
              " ('132', 'Timez', '10/26/2001', 'Zach End')]"
            ]
          },
          "metadata": {
            "tags": []
          },
          "execution_count": 18
        }
      ]
    },
    {
      "cell_type": "code",
      "metadata": {
        "colab": {
          "base_uri": "https://localhost:8080/",
          "height": 116
        },
        "id": "fJUzTxLP2h2J",
        "outputId": "f6caa7be-7f65-445b-8ddc-4de593f424b3"
      },
      "source": [
        "%%sql \n",
        "select * from Newspaper;"
      ],
      "execution_count": null,
      "outputs": [
        {
          "output_type": "stream",
          "text": [
            " * sqlite:///libraryDatabase.db\n",
            "Done.\n"
          ],
          "name": "stdout"
        },
        {
          "output_type": "execute_result",
          "data": {
            "text/html": [
              "<table>\n",
              "    <tr>\n",
              "        <th>UniqueID</th>\n",
              "        <th>Company</th>\n",
              "        <th>Issue</th>\n",
              "        <th>Stories</th>\n",
              "    </tr>\n",
              "    <tr>\n",
              "        <td>NEWS123</td>\n",
              "        <td>The Daily Bugal</td>\n",
              "        <td>Mike Evans</td>\n",
              "        <td>15.0</td>\n",
              "    </tr>\n",
              "    <tr>\n",
              "        <td>NEWs132</td>\n",
              "        <td>The New Pork Times</td>\n",
              "        <td>Lamar Jackson</td>\n",
              "        <td>12.0</td>\n",
              "    </tr>\n",
              "</table>"
            ],
            "text/plain": [
              "[('NEWS123', 'The Daily Bugal', 'Mike Evans', 15.0),\n",
              " ('NEWs132', 'The New Pork Times', 'Lamar Jackson', 12.0)]"
            ]
          },
          "metadata": {
            "tags": []
          },
          "execution_count": 19
        }
      ]
    },
    {
      "cell_type": "markdown",
      "metadata": {
        "id": "1ljDquVnU0Mw"
      },
      "source": [
        "# Questions"
      ]
    },
    {
      "cell_type": "markdown",
      "metadata": {
        "id": "10JeMEMAVDPj"
      },
      "source": [
        "How many authors have the letters 'e' and 's' next to each other?"
      ]
    },
    {
      "cell_type": "code",
      "metadata": {
        "colab": {
          "base_uri": "https://localhost:8080/",
          "height": 137
        },
        "id": "EjhiKj1GWIqj",
        "outputId": "c6f23de1-4d43-4dc2-d52f-48ec606f081c"
      },
      "source": [
        "%%sql\n",
        "\n",
        "select Author from Books where Author like '%es%';"
      ],
      "execution_count": null,
      "outputs": [
        {
          "output_type": "stream",
          "text": [
            " * sqlite:///libraryDatabase.db\n",
            "Done.\n"
          ],
          "name": "stdout"
        },
        {
          "output_type": "execute_result",
          "data": {
            "text/html": [
              "<table>\n",
              "    <tr>\n",
              "        <th>Author</th>\n",
              "    </tr>\n",
              "    <tr>\n",
              "        <td>Ernest Hemingway</td>\n",
              "    </tr>\n",
              "    <tr>\n",
              "        <td>William Shakespeare</td>\n",
              "    </tr>\n",
              "    <tr>\n",
              "        <td>Charles Dickens</td>\n",
              "    </tr>\n",
              "</table>"
            ],
            "text/plain": [
              "[('Ernest Hemingway',), ('William Shakespeare',), ('Charles Dickens',)]"
            ]
          },
          "metadata": {
            "tags": []
          },
          "execution_count": 7
        }
      ]
    },
    {
      "cell_type": "markdown",
      "metadata": {
        "id": "kxiyBiFCXJ7Q"
      },
      "source": [
        "How many transactions were completed on the 15th of Novemebr in 2019?"
      ]
    },
    {
      "cell_type": "code",
      "metadata": {
        "colab": {
          "base_uri": "https://localhost:8080/",
          "height": 95
        },
        "id": "WR1BiOmGEnM8",
        "outputId": "50eb747c-6543-4cb0-f8ff-a57e0483c3eb"
      },
      "source": [
        "%%sql\n",
        "\n",
        "select count(transactionID) from transactions where DateTime like '2019-11-15%';"
      ],
      "execution_count": null,
      "outputs": [
        {
          "output_type": "stream",
          "text": [
            " * sqlite:///libraryDatabase.db\n",
            "Done.\n"
          ],
          "name": "stdout"
        },
        {
          "output_type": "execute_result",
          "data": {
            "text/html": [
              "<table>\n",
              "    <tr>\n",
              "        <th>count(transactionID)</th>\n",
              "    </tr>\n",
              "    <tr>\n",
              "        <td>6</td>\n",
              "    </tr>\n",
              "</table>"
            ],
            "text/plain": [
              "[(6,)]"
            ]
          },
          "metadata": {
            "tags": []
          },
          "execution_count": 8
        }
      ]
    },
    {
      "cell_type": "markdown",
      "metadata": {
        "id": "PONxHqgQsU0d"
      },
      "source": [
        "What is the longest movie that can be rented that features Keanu Reeves as the main actor?\n",
        "\n",
        "\n",
        "\n"
      ]
    },
    {
      "cell_type": "code",
      "metadata": {
        "colab": {
          "base_uri": "https://localhost:8080/",
          "height": 95
        },
        "id": "h92_-QKjspkM",
        "outputId": "c111ecef-3139-4031-d97b-f09d1e8e5adb"
      },
      "source": [
        "%%sql\n",
        "select Title, max(playtime) from Movies WHERE Actors LIKE '%Keanu%';"
      ],
      "execution_count": null,
      "outputs": [
        {
          "output_type": "stream",
          "text": [
            " * sqlite:///libraryDatabase.db\n",
            "Done.\n"
          ],
          "name": "stdout"
        },
        {
          "output_type": "execute_result",
          "data": {
            "text/html": [
              "<table>\n",
              "    <tr>\n",
              "        <th>Title</th>\n",
              "        <th>max(playtime)</th>\n",
              "    </tr>\n",
              "    <tr>\n",
              "        <td>The Matrix</td>\n",
              "        <td>120.0</td>\n",
              "    </tr>\n",
              "</table>"
            ],
            "text/plain": [
              "[('The Matrix', 120.0)]"
            ]
          },
          "metadata": {
            "tags": []
          },
          "execution_count": 9
        }
      ]
    },
    {
      "cell_type": "markdown",
      "metadata": {
        "id": "Mtq-2Ia_HbQi"
      },
      "source": [
        ""
      ]
    },
    {
      "cell_type": "code",
      "metadata": {
        "id": "-mdyeAZMHa8b"
      },
      "source": [
        ""
      ],
      "execution_count": null,
      "outputs": []
    },
    {
      "cell_type": "markdown",
      "metadata": {
        "id": "rGSVBVqbLnKc"
      },
      "source": [
        "I picked these three questions becasue each of them showcase a diffrent function of SQL and they fit with the buisness model as these are relistic things that customers could want to search for on the service."
      ]
    }
  ]
}