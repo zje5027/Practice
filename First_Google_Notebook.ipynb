{
  "nbformat": 4,
  "nbformat_minor": 0,
  "metadata": {
    "colab": {
      "name": "First Google Notebook.ipynb",
      "provenance": [],
      "toc_visible": true,
      "authorship_tag": "ABX9TyNVwVt3j7N8Rwu44N4vu2H+",
      "include_colab_link": true
    },
    "kernelspec": {
      "name": "python3",
      "display_name": "Python 3"
    }
  },
  "cells": [
    {
      "cell_type": "markdown",
      "metadata": {
        "id": "view-in-github",
        "colab_type": "text"
      },
      "source": [
        "<a href=\"https://colab.research.google.com/github/zje5027/Practice/blob/master/First_Google_Notebook.ipynb\" target=\"_parent\"><img src=\"https://colab.research.google.com/assets/colab-badge.svg\" alt=\"Open In Colab\"/></a>"
      ]
    },
    {
      "cell_type": "markdown",
      "metadata": {
        "id": "MmRlsTGLQ1wD",
        "colab_type": "text"
      },
      "source": [
        "### Do you like using Jupyter Notebooks?"
      ]
    },
    {
      "cell_type": "markdown",
      "metadata": {
        "id": "nVvO9X55Q_yO",
        "colab_type": "text"
      },
      "source": [
        "I didnt know google had an application like this.\n",
        "Im excited to learn more about this platform as it seems like it could be a very useful tool to know how to use."
      ]
    },
    {
      "cell_type": "markdown",
      "metadata": {
        "id": "C62do3yxQ7XY",
        "colab_type": "text"
      },
      "source": [
        "### What do you want to learn more about in Jupyter Notebooks?\n"
      ]
    },
    {
      "cell_type": "markdown",
      "metadata": {
        "id": "xf3LbEXWS5Zm",
        "colab_type": "text"
      },
      "source": [
        "I would love to learn more about the implications and practical applications of having the ability to write code in multiple languages. I feel like the ability to do that opens up a lot of possibilites that once I have more coding experience will be good to know about. "
      ]
    },
    {
      "cell_type": "markdown",
      "metadata": {
        "id": "yBJFsYt_UnE4",
        "colab_type": "text"
      },
      "source": [
        "![photo of Pittsburgh](https://raw.githubusercontent.com/zje5027/Practice/master/images/city%20edit%201.5.jpg)\n"
      ]
    }
  ]
}